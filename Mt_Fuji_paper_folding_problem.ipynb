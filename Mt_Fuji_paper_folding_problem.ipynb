{
 "cells": [
  {
   "cell_type": "code",
   "execution_count": 14,
   "id": "ce275a51",
   "metadata": {},
   "outputs": [
    {
     "name": "stdout",
     "output_type": "stream",
     "text": [
      "Number of folds: 25.492283523798655 times\n",
      "Number of folds: 65.44485992164762 times\n",
      "Length: 9331960301.156597 meters\n"
     ]
    }
   ],
   "source": [
    "# Problem 1 How many times to fold paper to exceed the height of Mt.Fuji?\n",
    "# Import math Library\n",
    "import math \n",
    "Mt_Fuji_Height = 3776\n",
    "t = 0.00008\n",
    "n = math.log(3776/t)/math.log(2)\n",
    "print(\"Number of folds: {} times\".format(n))\n",
    "\n",
    "# Problem 2 Function corresponding to arbitrary thickness\n",
    "def minimum_number_of_paper_folds(thickness = 0.0008,distance=1000):\n",
    "    \"\"\" a function that, given a height input, would output the minimum number of paper folds required to exceed it.\n",
    "    Let's make it possible to set the thickness $t_{0}$ before folding as an argument.\n",
    "\n",
    "    Parameteres\n",
    "    -----------\n",
    "    distance: int\n",
    "       Height in meters (default : 1000)\n",
    "    thickness: float\n",
    "       Paper thickness in meter (default : 0.00008)\n",
    "\n",
    "    Returns\n",
    "    -------\n",
    "    number_of_paper_folds : int\n",
    "        the minimum number of paper folds required to exceed the distance\n",
    "     \"\"\"\n",
    "    number_of_paper_folds = math.log(distance/thickness)/math.log(2)\n",
    "    \n",
    "    return number_of_paper_folds\n",
    "\n",
    "number_of_paper_folds = minimum_number_of_paper_folds(0.0008, 4.0175E16)\n",
    "print(\"Number of folds: {} times\".format(number_of_paper_folds))\n",
    "\n",
    "# Problem 3 Required paper length\n",
    "def required_paper_length(thickness = 0.0008,number_of_paper_folds=43):\n",
    "    \"\"\" a function that, given a height input, would output the minimum number of paper folds required to exceed it.\n",
    "    Let's make it possible to set the thickness $t_{0}$ before folding as an argument.\n",
    "\n",
    "    Parameteres\n",
    "    -----------\n",
    "    thickness: float\n",
    "       Paper thickness in meter (default : 0.00008)\n",
    "    number_of_paper_folds: int\n",
    "       Numver of paper folds (default : 42)\n",
    "\n",
    "    Returns\n",
    "    -------\n",
    "    length : float\n",
    "        The length of the paper\n",
    "     \"\"\"\n",
    "    length = math.pi * thickness * ((2**number_of_paper_folds)+4)*((2**number_of_paper_folds)-1)/6\n",
    "    \n",
    "    return length\n",
    "\n",
    "length = required_paper_length(0.0008, minimum_number_of_paper_folds(0.0008,3776))\n",
    "print(\"Length: {} meters\".format(length))\n"
   ]
  },
  {
   "cell_type": "code",
   "execution_count": null,
   "id": "52ed82e7",
   "metadata": {},
   "outputs": [],
   "source": []
  }
 ],
 "metadata": {
  "kernelspec": {
   "display_name": "Python 3 (ipykernel)",
   "language": "python",
   "name": "python3"
  },
  "language_info": {
   "codemirror_mode": {
    "name": "ipython",
    "version": 3
   },
   "file_extension": ".py",
   "mimetype": "text/x-python",
   "name": "python",
   "nbconvert_exporter": "python",
   "pygments_lexer": "ipython3",
   "version": "3.9.13"
  }
 },
 "nbformat": 4,
 "nbformat_minor": 5
}
